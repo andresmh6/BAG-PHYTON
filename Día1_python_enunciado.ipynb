{
 "cells": [
  {
   "cell_type": "markdown",
   "id": "25e406e4",
   "metadata": {},
   "source": [
    "# Python básico\n",
    "\n",
    "Ana Belén Romero Losada\n",
    "Departamento de Ciencias de la Computación e Inteligencia Artificial\n",
    "Universidad de Sevila\n",
    "\n",
    "En esta hoja de trabajo vamos a ver lo esencial de Python para poder empezar a practicar con el lenguaje.\n",
    "\n",
    "En el entorno Jupyter se trabaja Python sobre un notebook u hoja de trabajo. Esta hoja de trabajo está formada por una secuencia de cajas, que pueden ser de texto, en las que explicar ideas y conceptos, o de código, en las que definir o evaluar funciones Python.\n"
   ]
  },
  {
   "cell_type": "markdown",
   "id": "6f83aa55",
   "metadata": {},
   "source": [
    "##  Ejercicio 1\n",
    "\n",
    "Crea una función que resuelva una ecuación de segundo grado en jupyter y en R. Compara las diferencias a la hora de realizar operaciones aritméticas y lógicas, declarar variables/objetos y usar las estructuras de control. \n",
    "\n",
    "PISTA: existe una función llamada round() para redondear. Se usa como típicamente se usa en R."
   ]
  },
  {
   "cell_type": "code",
   "execution_count": 144,
   "id": "5a496365",
   "metadata": {},
   "outputs": [
    {
     "name": "stdout",
     "output_type": "stream",
     "text": [
      "error\n"
     ]
    },
    {
     "data": {
      "text/plain": [
       "(3, 2)"
      ]
     },
     "execution_count": 144,
     "metadata": {},
     "output_type": "execute_result"
    }
   ],
   "source": [
    "#Crea la funcion llamada calculadora\n",
    "##comprueba si el número que iría dentro de la raiz cuadrada es negativo\n",
    "###Devuelve 0 y un mensaje de error\n",
    "##en el caso que no lo sea, resuelve la ecuacion\n",
    "### imprime por pantalla los siguientes mensajes\n",
    "####\"ambas soluciones son válidas, x puede valer sol1 y sol2\"\n",
    "####\"Solo la solucion 1 es válida, x vale sol1\"\n",
    "####\"Solo la solucion 2 es válida, x vale sol2\"\n",
    "\n",
    "\n",
    "def calculadora(a, b, c):\n",
    "    \n",
    "    dentro=(b**2 - 4*a*c)\n",
    "    if (dentro<0):\n",
    "        print(\"error\")\n",
    "        return(0)\n",
    "    else:\n",
    "        sol1=(-b+(dentro**1/2))/(2*a)\n",
    "        sol2=(-b-(dentro**1/2))/(2*a)\n",
    "        \n",
    "        test1=(a*((sol1)**2)) + (b*sol1) + c\n",
    "        test2=(a*((sol2)**2)) + (b*sol2) + c\n",
    "        \n",
    "        if((round(test1) == 0) and round(test2==0))\n",
    "        print(\"ambas soluciones validas\")\n",
    "        \n",
    "        \n",
    "    \n",
    "    return round(sol1), round(sol2)\n",
    "    \n",
    "calculadora(2,4,7)\n",
    "calculadora(1, -5, 6)"
   ]
  },
  {
   "cell_type": "code",
   "execution_count": 145,
   "id": "e9788e35",
   "metadata": {},
   "outputs": [
    {
     "name": "stdout",
     "output_type": "stream",
     "text": [
      "error\n",
      "None (3, 2)\n"
     ]
    }
   ],
   "source": [
    "solu1=calculadora(2,4,7)\n",
    "solu2=calculadora(1, -5, 6)\n",
    "\n",
    "print(solu1,solu2)\n",
    "\n"
   ]
  },
  {
   "cell_type": "code",
   "execution_count": 142,
   "id": "12dde7a4",
   "metadata": {},
   "outputs": [
    {
     "data": {
      "text/plain": [
       "(3, 2)"
      ]
     },
     "execution_count": 142,
     "metadata": {},
     "output_type": "execute_result"
    }
   ],
   "source": [
    " calculadora(1, -5, 6)"
   ]
  },
  {
   "cell_type": "markdown",
   "id": "0bdfc9f1",
   "metadata": {},
   "source": [
    "## Ejercicio 2\n",
    "\n",
    "Traduce este pseudocódigo a código en R y python simultáneamente. \n",
    "\n"
   ]
  },
  {
   "cell_type": "code",
   "execution_count": 149,
   "id": "d22b6179",
   "metadata": {},
   "outputs": [
    {
     "data": {
      "text/plain": [
       "4"
      ]
     },
     "execution_count": 149,
     "metadata": {},
     "output_type": "execute_result"
    }
   ],
   "source": [
    "#Declara una variable llamada x que valga 2\n",
    "#Súmale 2 a x\n",
    "x=2\n",
    "x+=2\n",
    "x"
   ]
  },
  {
   "cell_type": "code",
   "execution_count": 170,
   "id": "c04298d3",
   "metadata": {},
   "outputs": [
    {
     "data": {
      "text/plain": [
       "'holaholaholahola'"
      ]
     },
     "execution_count": 170,
     "metadata": {},
     "output_type": "execute_result"
    }
   ],
   "source": [
    "#Declara una variable llamada palabra que valga \"hola\"\n",
    "#Cuadrupicla la variable palabra\n",
    "palabra=\"hola\"\n",
    "cuadru=palabra*4\n",
    "cuadru"
   ]
  },
  {
   "cell_type": "code",
   "execution_count": null,
   "id": "c38f86e9",
   "metadata": {},
   "outputs": [],
   "source": [
    "#string es cadena de caracteres ej \"atgc\", palabras o secuencias muy largas, en R había que pasarl a avector aqui en phyton no\n",
    "#es necesario. Cadenas de caracteres"
   ]
  },
  {
   "cell_type": "code",
   "execution_count": 178,
   "id": "a9457486",
   "metadata": {},
   "outputs": [
    {
     "name": "stdout",
     "output_type": "stream",
     "text": [
      "hola mundo que tal\n",
      "5\n",
      "HOLA MUNDO QUE TAL\n",
      "2\n",
      "hola\n",
      " ud u a\n",
      "aloh\n"
     ]
    }
   ],
   "source": [
    "#añade las palabras \"mundo que tal\" a palabra\n",
    "#encuentra en que posicion está mundo\n",
    "#escribelo en mayuscula y cuenta cuantas \"a\" hay (esto hazlo solo en python)\n",
    "\n",
    "mundo=\" mundo que tal\"\n",
    "nuevo=palabra+mundo\n",
    "print(nuevo)\n",
    "\n",
    "nuevo_mundo=nuevo.find(\"mundo\")\n",
    "print(nuevo_mundo)\n",
    "\n",
    "mayus=nuevo.upper()\n",
    "print(mayus)\n",
    "\n",
    "conteo=nuevo.count(\"a\")\n",
    "print(conteo)\n",
    "\n",
    "ejemplo=palabra[0:4]\n",
    "print(ejemplo)\n",
    "\n",
    "#aqui no existe el seq como en R, aqui podmeos hacerlo así\n",
    "\n",
    "ejemplo2=mundo[0:15:2]\n",
    "print(ejemplo2)\n",
    "\n",
    "reverse=palabra[::-1]\n",
    "print(reverse)"
   ]
  },
  {
   "cell_type": "markdown",
   "id": "cd1fc86f",
   "metadata": {},
   "source": [
    "## Ejercicio 3\n",
    "\n",
    "Vamos a prácticar con las demás clases de objetos en python."
   ]
  },
  {
   "cell_type": "code",
   "execution_count": 192,
   "id": "95a15183",
   "metadata": {},
   "outputs": [
    {
     "ename": "TypeError",
     "evalue": "'tuple' object does not support item assignment",
     "output_type": "error",
     "traceback": [
      "\u001b[1;31m---------------------------------------------------------------------------\u001b[0m",
      "\u001b[1;31mTypeError\u001b[0m                                 Traceback (most recent call last)",
      "Cell \u001b[1;32mIn[192], line 25\u001b[0m\n\u001b[0;32m     23\u001b[0m tupla1\n\u001b[0;32m     24\u001b[0m \u001b[38;5;66;03m#Modifica el valor de la posición 2 en la tupla por la palabra \"hola\"\u001b[39;00m\n\u001b[1;32m---> 25\u001b[0m tupla1[\u001b[38;5;241m2\u001b[39m]\u001b[38;5;241m=\u001b[39m\u001b[38;5;241m5\u001b[39m,\n",
      "\u001b[1;31mTypeError\u001b[0m: 'tuple' object does not support item assignment"
     ]
    }
   ],
   "source": [
    "#############tuplas\n",
    "#Crea una tupla con tres elementos, el elemento más parecido a un vector\n",
    "#TUPLA PUEDE TENER NUMEROS CARATERES Y BULEANOS PERO NO OTROS VECTORES NI LISTAS, NO HACE FALTA c\n",
    "tupla1=(1,4,5,\"HOLA\")\n",
    "\n",
    "#Crea una tupla con un elemento\n",
    "#NISIQUIERA HACE FALTA PARENTESIS, PERO SI QUEREMOS UN SOLO ELEMENTO PONGO COMA TRAS ELEMENTO\n",
    "tupla2=1,2,3,4\n",
    "tupla_uno=1,\n",
    "tupla_vacia=()\n",
    "\n",
    "#Crea una tupla vacía\n",
    "#recorre la tupla al revés\n",
    "tupla1[::-1]\n",
    "tupla1[3]\n",
    "#está el valor 6 en la tupla?\n",
    "#ESTO PA VER SI ESTÁ\n",
    "6 in tupla1\n",
    "#Concatena, es decir, añade al final de la tupla: el valor 10\n",
    "#PARA CONCATENAR TUPLA DEBES HAERLO CON OTRA TUPLA, POR ESO CADENA DEBES TRANSFORMARLA A TUPLA\n",
    "\n",
    "tupla1+=(\"hola\",)\n",
    "tupla1\n",
    "#Modifica el valor de la posición 2 en la tupla por la palabra \"hola\"\n",
    "#NO ES MODIFICABLE LA PUTA TUPLA, LISTAS SI LO PERMITE\n",
    "#TRABAJAMOS CON TUPLAS SI SON DATOS QUE NO QUEREMOS MODIFICAR COMO SECUENCIA O DATOS GENERADOS\n",
    "#NO OBSTANTE \n",
    "tupla1[2] \n"
   ]
  },
  {
   "cell_type": "code",
   "execution_count": 215,
   "id": "305c0ac9",
   "metadata": {},
   "outputs": [
    {
     "data": {
      "text/plain": [
       "'hola puta que tal hola'"
      ]
     },
     "execution_count": 215,
     "metadata": {},
     "output_type": "execute_result"
    }
   ],
   "source": [
    "#############listas\n",
    "#Crea una lista que dentro tenga palabras\n",
    "#Modifica el valor de la posición 2 en la lista por la palabra \"hola\"\n",
    "#Concatena el valor 122 con tu lista\n",
    "#Concatena el valor \"hola\" con tu lista\n",
    "#transforma la lista en una string con la función .join\n",
    "\n",
    "#HAY QUE PONER CORCHETES SI O SI\n",
    "l=[1,2,5]\n",
    "l\n",
    "lista2=[1,2,3,l]\n",
    "lista2\n",
    "\n",
    "#AQUI SI SE PUEDE MODIFICAR\n",
    "lista1=[\"hola\", \"mundo\", \"que\", \"tal\"]\n",
    "lista1[1]= \"puta\"\n",
    "lista1\n",
    "\n",
    "#PARA CONCATENAR DEBE SER MISMO TIPO DE ELEEMENTO\n",
    "\n",
    "lista1+=[\"hola\"]\n",
    "lista1\n",
    "\n",
    "#FUNCIONES\n",
    "lista_vacia=[]\n",
    "lista_vacia.append(2)\n",
    "lista_vacia\n",
    "\n",
    "#EL JOIN SE USA CON LISTAS COMO ARGUMENTO, poner o no espacio entre  las \"\" PARA QUE SALGA. Join no incluye numeros\n",
    "\n",
    "lista1\n",
    "\" \".join(lista1)\n",
    "\n",
    "\n",
    "\n",
    "\n",
    "#BUCLES FOR\n",
    "def mi_primer_bucle(lista):\n",
    "    for i in range(0,(length(lista)+1)):\n",
    "    for numero in lista\n",
    "        numero+1"
   ]
  },
  {
   "cell_type": "code",
   "execution_count": null,
   "id": "37b322bc",
   "metadata": {},
   "outputs": [],
   "source": [
    "#############Diccionarios\n",
    "#Crea un diccionario\n",
    "#accede al valor de la 2ª clave\n",
    "#Añade una clave nueva con su correspondiente valor\n",
    "#Accede solo a los valores, o solo a las claves"
   ]
  }
 ],
 "metadata": {
  "kernelspec": {
   "display_name": "Python 3 (ipykernel)",
   "language": "python",
   "name": "python3"
  },
  "language_info": {
   "codemirror_mode": {
    "name": "ipython",
    "version": 3
   },
   "file_extension": ".py",
   "mimetype": "text/x-python",
   "name": "python",
   "nbconvert_exporter": "python",
   "pygments_lexer": "ipython3",
   "version": "3.12.0"
  }
 },
 "nbformat": 4,
 "nbformat_minor": 5
}
